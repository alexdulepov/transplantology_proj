{
 "cells": [
  {
   "cell_type": "code",
   "execution_count": 1,
   "id": "7f60811b-558e-4998-80e2-34f67af181b3",
   "metadata": {},
   "outputs": [],
   "source": [
    "from sklearn.linear_model import LogisticRegression\n",
    "from sklearn.pipeline import make_pipeline\n",
    "from sklearn.preprocessing import StandardScaler\n",
    "from sklearn.svm import l1_min_c"
   ]
  },
  {
   "cell_type": "code",
   "execution_count": 2,
   "id": "10f87086-b47f-44b1-b20c-8b04cc61b4f4",
   "metadata": {},
   "outputs": [
    {
     "name": "stdout",
     "output_type": "stream",
     "text": [
      "ello\n"
     ]
    }
   ],
   "source": [
    "print(\"ello\")"
   ]
  },
  {
   "cell_type": "code",
   "execution_count": 1,
   "id": "00b4ffd3-a61c-46d9-a623-dae989582201",
   "metadata": {},
   "outputs": [
    {
     "name": "stdout",
     "output_type": "stream",
     "text": [
      "Requirement already satisfied: jupyterlab-git in c:\\users\\dulep\\anaconda3\\envs\\ml\\lib\\site-packages (0.51.2)\n",
      "Requirement already satisfied: jupyter-server<3,>=2.0.1 in c:\\users\\dulep\\anaconda3\\envs\\ml\\lib\\site-packages (from jupyterlab-git) (2.16.0)\n",
      "Requirement already satisfied: nbdime~=4.0.1 in c:\\users\\dulep\\anaconda3\\envs\\ml\\lib\\site-packages (from jupyterlab-git) (4.0.2)\n",
      "Requirement already satisfied: nbformat in c:\\users\\dulep\\anaconda3\\envs\\ml\\lib\\site-packages (from jupyterlab-git) (5.10.4)\n",
      "Requirement already satisfied: packaging in c:\\users\\dulep\\anaconda3\\envs\\ml\\lib\\site-packages (from jupyterlab-git) (24.2)\n",
      "Requirement already satisfied: pexpect in c:\\users\\dulep\\anaconda3\\envs\\ml\\lib\\site-packages (from jupyterlab-git) (4.9.0)\n",
      "Requirement already satisfied: traitlets~=5.0 in c:\\users\\dulep\\anaconda3\\envs\\ml\\lib\\site-packages (from jupyterlab-git) (5.14.3)\n",
      "Requirement already satisfied: anyio>=3.1.0 in c:\\users\\dulep\\anaconda3\\envs\\ml\\lib\\site-packages (from jupyter-server<3,>=2.0.1->jupyterlab-git) (4.7.0)\n",
      "Requirement already satisfied: argon2-cffi>=21.1 in c:\\users\\dulep\\anaconda3\\envs\\ml\\lib\\site-packages (from jupyter-server<3,>=2.0.1->jupyterlab-git) (21.3.0)\n",
      "Requirement already satisfied: jinja2>=3.0.3 in c:\\users\\dulep\\anaconda3\\envs\\ml\\lib\\site-packages (from jupyter-server<3,>=2.0.1->jupyterlab-git) (3.1.6)\n",
      "Requirement already satisfied: jupyter-client>=7.4.4 in c:\\users\\dulep\\anaconda3\\envs\\ml\\lib\\site-packages (from jupyter-server<3,>=2.0.1->jupyterlab-git) (8.6.3)\n",
      "Requirement already satisfied: jupyter-core!=5.0.*,>=4.12 in c:\\users\\dulep\\anaconda3\\envs\\ml\\lib\\site-packages (from jupyter-server<3,>=2.0.1->jupyterlab-git) (5.8.1)\n",
      "Requirement already satisfied: jupyter-events>=0.11.0 in c:\\users\\dulep\\anaconda3\\envs\\ml\\lib\\site-packages (from jupyter-server<3,>=2.0.1->jupyterlab-git) (0.12.0)\n",
      "Requirement already satisfied: jupyter-server-terminals>=0.4.4 in c:\\users\\dulep\\anaconda3\\envs\\ml\\lib\\site-packages (from jupyter-server<3,>=2.0.1->jupyterlab-git) (0.5.3)\n",
      "Requirement already satisfied: nbconvert>=6.4.4 in c:\\users\\dulep\\anaconda3\\envs\\ml\\lib\\site-packages (from jupyter-server<3,>=2.0.1->jupyterlab-git) (7.16.6)\n",
      "Requirement already satisfied: overrides>=5.0 in c:\\users\\dulep\\anaconda3\\envs\\ml\\lib\\site-packages (from jupyter-server<3,>=2.0.1->jupyterlab-git) (7.4.0)\n",
      "Requirement already satisfied: prometheus-client>=0.9 in c:\\users\\dulep\\anaconda3\\envs\\ml\\lib\\site-packages (from jupyter-server<3,>=2.0.1->jupyterlab-git) (0.21.1)\n",
      "Requirement already satisfied: pywinpty>=2.0.1 in c:\\users\\dulep\\anaconda3\\envs\\ml\\lib\\site-packages (from jupyter-server<3,>=2.0.1->jupyterlab-git) (2.0.15)\n",
      "Requirement already satisfied: pyzmq>=24 in c:\\users\\dulep\\anaconda3\\envs\\ml\\lib\\site-packages (from jupyter-server<3,>=2.0.1->jupyterlab-git) (26.2.0)\n",
      "Requirement already satisfied: send2trash>=1.8.2 in c:\\users\\dulep\\anaconda3\\envs\\ml\\lib\\site-packages (from jupyter-server<3,>=2.0.1->jupyterlab-git) (1.8.2)\n",
      "Requirement already satisfied: terminado>=0.8.3 in c:\\users\\dulep\\anaconda3\\envs\\ml\\lib\\site-packages (from jupyter-server<3,>=2.0.1->jupyterlab-git) (0.17.1)\n",
      "Requirement already satisfied: tornado>=6.2.0 in c:\\users\\dulep\\anaconda3\\envs\\ml\\lib\\site-packages (from jupyter-server<3,>=2.0.1->jupyterlab-git) (6.5.1)\n",
      "Requirement already satisfied: websocket-client>=1.7 in c:\\users\\dulep\\anaconda3\\envs\\ml\\lib\\site-packages (from jupyter-server<3,>=2.0.1->jupyterlab-git) (1.8.0)\n",
      "Requirement already satisfied: colorama in c:\\users\\dulep\\anaconda3\\envs\\ml\\lib\\site-packages (from nbdime~=4.0.1->jupyterlab-git) (0.4.6)\n",
      "Requirement already satisfied: gitpython!=2.1.4,!=2.1.5,!=2.1.6 in c:\\users\\dulep\\anaconda3\\envs\\ml\\lib\\site-packages (from nbdime~=4.0.1->jupyterlab-git) (3.1.44)\n",
      "Requirement already satisfied: jupyter-server-mathjax>=0.2.2 in c:\\users\\dulep\\anaconda3\\envs\\ml\\lib\\site-packages (from nbdime~=4.0.1->jupyterlab-git) (0.2.6)\n",
      "Requirement already satisfied: pygments in c:\\users\\dulep\\anaconda3\\envs\\ml\\lib\\site-packages (from nbdime~=4.0.1->jupyterlab-git) (2.19.1)\n",
      "Requirement already satisfied: requests in c:\\users\\dulep\\anaconda3\\envs\\ml\\lib\\site-packages (from nbdime~=4.0.1->jupyterlab-git) (2.32.4)\n",
      "Requirement already satisfied: idna>=2.8 in c:\\users\\dulep\\anaconda3\\envs\\ml\\lib\\site-packages (from anyio>=3.1.0->jupyter-server<3,>=2.0.1->jupyterlab-git) (3.7)\n",
      "Requirement already satisfied: sniffio>=1.1 in c:\\users\\dulep\\anaconda3\\envs\\ml\\lib\\site-packages (from anyio>=3.1.0->jupyter-server<3,>=2.0.1->jupyterlab-git) (1.3.0)\n",
      "Requirement already satisfied: argon2-cffi-bindings in c:\\users\\dulep\\anaconda3\\envs\\ml\\lib\\site-packages (from argon2-cffi>=21.1->jupyter-server<3,>=2.0.1->jupyterlab-git) (21.2.0)\n",
      "Requirement already satisfied: gitdb<5,>=4.0.1 in c:\\users\\dulep\\anaconda3\\envs\\ml\\lib\\site-packages (from gitpython!=2.1.4,!=2.1.5,!=2.1.6->nbdime~=4.0.1->jupyterlab-git) (4.0.12)\n",
      "Requirement already satisfied: smmap<6,>=3.0.1 in c:\\users\\dulep\\anaconda3\\envs\\ml\\lib\\site-packages (from gitdb<5,>=4.0.1->gitpython!=2.1.4,!=2.1.5,!=2.1.6->nbdime~=4.0.1->jupyterlab-git) (5.0.2)\n",
      "Requirement already satisfied: MarkupSafe>=2.0 in c:\\users\\dulep\\anaconda3\\envs\\ml\\lib\\site-packages (from jinja2>=3.0.3->jupyter-server<3,>=2.0.1->jupyterlab-git) (3.0.2)\n",
      "Requirement already satisfied: python-dateutil>=2.8.2 in c:\\users\\dulep\\anaconda3\\envs\\ml\\lib\\site-packages (from jupyter-client>=7.4.4->jupyter-server<3,>=2.0.1->jupyterlab-git) (2.9.0.post0)\n",
      "Requirement already satisfied: platformdirs>=2.5 in c:\\users\\dulep\\anaconda3\\envs\\ml\\lib\\site-packages (from jupyter-core!=5.0.*,>=4.12->jupyter-server<3,>=2.0.1->jupyterlab-git) (4.3.7)\n",
      "Requirement already satisfied: pywin32>=300 in c:\\users\\dulep\\anaconda3\\envs\\ml\\lib\\site-packages (from jupyter-core!=5.0.*,>=4.12->jupyter-server<3,>=2.0.1->jupyterlab-git) (308)\n",
      "Requirement already satisfied: jsonschema>=4.18.0 in c:\\users\\dulep\\anaconda3\\envs\\ml\\lib\\site-packages (from jsonschema[format-nongpl]>=4.18.0->jupyter-events>=0.11.0->jupyter-server<3,>=2.0.1->jupyterlab-git) (4.23.0)\n",
      "Requirement already satisfied: python-json-logger>=2.0.4 in c:\\users\\dulep\\anaconda3\\envs\\ml\\lib\\site-packages (from jupyter-events>=0.11.0->jupyter-server<3,>=2.0.1->jupyterlab-git) (3.2.1)\n",
      "Requirement already satisfied: pyyaml>=5.3 in c:\\users\\dulep\\anaconda3\\envs\\ml\\lib\\site-packages (from jupyter-events>=0.11.0->jupyter-server<3,>=2.0.1->jupyterlab-git) (6.0.2)\n",
      "Requirement already satisfied: referencing in c:\\users\\dulep\\anaconda3\\envs\\ml\\lib\\site-packages (from jupyter-events>=0.11.0->jupyter-server<3,>=2.0.1->jupyterlab-git) (0.30.2)\n",
      "Requirement already satisfied: rfc3339-validator in c:\\users\\dulep\\anaconda3\\envs\\ml\\lib\\site-packages (from jupyter-events>=0.11.0->jupyter-server<3,>=2.0.1->jupyterlab-git) (0.1.4)\n",
      "Requirement already satisfied: rfc3986-validator>=0.1.1 in c:\\users\\dulep\\anaconda3\\envs\\ml\\lib\\site-packages (from jupyter-events>=0.11.0->jupyter-server<3,>=2.0.1->jupyterlab-git) (0.1.1)\n",
      "Requirement already satisfied: attrs>=22.2.0 in c:\\users\\dulep\\anaconda3\\envs\\ml\\lib\\site-packages (from jsonschema>=4.18.0->jsonschema[format-nongpl]>=4.18.0->jupyter-events>=0.11.0->jupyter-server<3,>=2.0.1->jupyterlab-git) (24.3.0)\n",
      "Requirement already satisfied: jsonschema-specifications>=2023.03.6 in c:\\users\\dulep\\anaconda3\\envs\\ml\\lib\\site-packages (from jsonschema>=4.18.0->jsonschema[format-nongpl]>=4.18.0->jupyter-events>=0.11.0->jupyter-server<3,>=2.0.1->jupyterlab-git) (2023.7.1)\n",
      "Requirement already satisfied: rpds-py>=0.7.1 in c:\\users\\dulep\\anaconda3\\envs\\ml\\lib\\site-packages (from jsonschema>=4.18.0->jsonschema[format-nongpl]>=4.18.0->jupyter-events>=0.11.0->jupyter-server<3,>=2.0.1->jupyterlab-git) (0.22.3)\n",
      "Requirement already satisfied: fqdn in c:\\users\\dulep\\anaconda3\\envs\\ml\\lib\\site-packages (from jsonschema[format-nongpl]>=4.18.0->jupyter-events>=0.11.0->jupyter-server<3,>=2.0.1->jupyterlab-git) (1.5.1)\n",
      "Requirement already satisfied: isoduration in c:\\users\\dulep\\anaconda3\\envs\\ml\\lib\\site-packages (from jsonschema[format-nongpl]>=4.18.0->jupyter-events>=0.11.0->jupyter-server<3,>=2.0.1->jupyterlab-git) (20.11.0)\n",
      "Requirement already satisfied: jsonpointer>1.13 in c:\\users\\dulep\\anaconda3\\envs\\ml\\lib\\site-packages (from jsonschema[format-nongpl]>=4.18.0->jupyter-events>=0.11.0->jupyter-server<3,>=2.0.1->jupyterlab-git) (3.0.0)\n",
      "Requirement already satisfied: uri-template in c:\\users\\dulep\\anaconda3\\envs\\ml\\lib\\site-packages (from jsonschema[format-nongpl]>=4.18.0->jupyter-events>=0.11.0->jupyter-server<3,>=2.0.1->jupyterlab-git) (1.3.0)\n",
      "Requirement already satisfied: webcolors>=24.6.0 in c:\\users\\dulep\\anaconda3\\envs\\ml\\lib\\site-packages (from jsonschema[format-nongpl]>=4.18.0->jupyter-events>=0.11.0->jupyter-server<3,>=2.0.1->jupyterlab-git) (24.11.1)\n",
      "Requirement already satisfied: beautifulsoup4 in c:\\users\\dulep\\anaconda3\\envs\\ml\\lib\\site-packages (from nbconvert>=6.4.4->jupyter-server<3,>=2.0.1->jupyterlab-git) (4.13.4)\n",
      "Requirement already satisfied: bleach!=5.0.0 in c:\\users\\dulep\\anaconda3\\envs\\ml\\lib\\site-packages (from bleach[css]!=5.0.0->nbconvert>=6.4.4->jupyter-server<3,>=2.0.1->jupyterlab-git) (6.2.0)\n",
      "Requirement already satisfied: defusedxml in c:\\users\\dulep\\anaconda3\\envs\\ml\\lib\\site-packages (from nbconvert>=6.4.4->jupyter-server<3,>=2.0.1->jupyterlab-git) (0.7.1)\n",
      "Requirement already satisfied: jupyterlab-pygments in c:\\users\\dulep\\anaconda3\\envs\\ml\\lib\\site-packages (from nbconvert>=6.4.4->jupyter-server<3,>=2.0.1->jupyterlab-git) (0.3.0)\n",
      "Requirement already satisfied: mistune<4,>=2.0.3 in c:\\users\\dulep\\anaconda3\\envs\\ml\\lib\\site-packages (from nbconvert>=6.4.4->jupyter-server<3,>=2.0.1->jupyterlab-git) (3.1.2)\n",
      "Requirement already satisfied: nbclient>=0.5.0 in c:\\users\\dulep\\anaconda3\\envs\\ml\\lib\\site-packages (from nbconvert>=6.4.4->jupyter-server<3,>=2.0.1->jupyterlab-git) (0.10.2)\n",
      "Requirement already satisfied: pandocfilters>=1.4.1 in c:\\users\\dulep\\anaconda3\\envs\\ml\\lib\\site-packages (from nbconvert>=6.4.4->jupyter-server<3,>=2.0.1->jupyterlab-git) (1.5.0)\n",
      "Requirement already satisfied: webencodings in c:\\users\\dulep\\anaconda3\\envs\\ml\\lib\\site-packages (from bleach!=5.0.0->bleach[css]!=5.0.0->nbconvert>=6.4.4->jupyter-server<3,>=2.0.1->jupyterlab-git) (0.5.1)\n",
      "Requirement already satisfied: tinycss2<1.5,>=1.1.0 in c:\\users\\dulep\\anaconda3\\envs\\ml\\lib\\site-packages (from bleach[css]!=5.0.0->nbconvert>=6.4.4->jupyter-server<3,>=2.0.1->jupyterlab-git) (1.4.0)\n",
      "Requirement already satisfied: fastjsonschema>=2.15 in c:\\users\\dulep\\anaconda3\\envs\\ml\\lib\\site-packages (from nbformat->jupyterlab-git) (2.20.0)\n",
      "Requirement already satisfied: six>=1.5 in c:\\users\\dulep\\anaconda3\\envs\\ml\\lib\\site-packages (from python-dateutil>=2.8.2->jupyter-client>=7.4.4->jupyter-server<3,>=2.0.1->jupyterlab-git) (1.17.0)\n",
      "Requirement already satisfied: cffi>=1.0.1 in c:\\users\\dulep\\anaconda3\\envs\\ml\\lib\\site-packages (from argon2-cffi-bindings->argon2-cffi>=21.1->jupyter-server<3,>=2.0.1->jupyterlab-git) (1.17.1)\n",
      "Requirement already satisfied: pycparser in c:\\users\\dulep\\anaconda3\\envs\\ml\\lib\\site-packages (from cffi>=1.0.1->argon2-cffi-bindings->argon2-cffi>=21.1->jupyter-server<3,>=2.0.1->jupyterlab-git) (2.21)\n",
      "Requirement already satisfied: soupsieve>1.2 in c:\\users\\dulep\\anaconda3\\envs\\ml\\lib\\site-packages (from beautifulsoup4->nbconvert>=6.4.4->jupyter-server<3,>=2.0.1->jupyterlab-git) (2.5)\n",
      "Requirement already satisfied: typing-extensions>=4.0.0 in c:\\users\\dulep\\anaconda3\\envs\\ml\\lib\\site-packages (from beautifulsoup4->nbconvert>=6.4.4->jupyter-server<3,>=2.0.1->jupyterlab-git) (4.12.2)\n",
      "Requirement already satisfied: arrow>=0.15.0 in c:\\users\\dulep\\anaconda3\\envs\\ml\\lib\\site-packages (from isoduration->jsonschema[format-nongpl]>=4.18.0->jupyter-events>=0.11.0->jupyter-server<3,>=2.0.1->jupyterlab-git) (1.3.0)\n",
      "Requirement already satisfied: types-python-dateutil>=2.8.10 in c:\\users\\dulep\\anaconda3\\envs\\ml\\lib\\site-packages (from arrow>=0.15.0->isoduration->jsonschema[format-nongpl]>=4.18.0->jupyter-events>=0.11.0->jupyter-server<3,>=2.0.1->jupyterlab-git) (2.9.0.20250708)\n",
      "Requirement already satisfied: ptyprocess>=0.5 in c:\\users\\dulep\\anaconda3\\envs\\ml\\lib\\site-packages (from pexpect->jupyterlab-git) (0.7.0)\n",
      "Requirement already satisfied: charset_normalizer<4,>=2 in c:\\users\\dulep\\anaconda3\\envs\\ml\\lib\\site-packages (from requests->nbdime~=4.0.1->jupyterlab-git) (3.3.2)\n",
      "Requirement already satisfied: urllib3<3,>=1.21.1 in c:\\users\\dulep\\anaconda3\\envs\\ml\\lib\\site-packages (from requests->nbdime~=4.0.1->jupyterlab-git) (2.5.0)\n",
      "Requirement already satisfied: certifi>=2017.4.17 in c:\\users\\dulep\\anaconda3\\envs\\ml\\lib\\site-packages (from requests->nbdime~=4.0.1->jupyterlab-git) (2025.7.14)\n",
      "Note: you may need to restart the kernel to use updated packages.\n"
     ]
    }
   ],
   "source": [
    "pip install --upgrade jupyterlab-git"
   ]
  }
 ],
 "metadata": {
  "kernelspec": {
   "display_name": "Python 3 (ipykernel)",
   "language": "python",
   "name": "python3"
  },
  "language_info": {
   "codemirror_mode": {
    "name": "ipython",
    "version": 3
   },
   "file_extension": ".py",
   "mimetype": "text/x-python",
   "name": "python",
   "nbconvert_exporter": "python",
   "pygments_lexer": "ipython3",
   "version": "3.13.5"
  }
 },
 "nbformat": 4,
 "nbformat_minor": 5
}
